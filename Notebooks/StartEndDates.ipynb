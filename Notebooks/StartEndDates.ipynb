{
 "cells": [
  {
   "cell_type": "markdown",
   "metadata": {},
   "source": [
    "# Upwelling Comparison - Season Duration"
   ]
  },
  {
   "cell_type": "markdown",
   "metadata": {},
   "source": [
    "## This notebook looks at the length of the upwelling season in the Historical (1965-2005) and Future (2010-2050) time frames."
   ]
  },
  {
   "cell_type": "markdown",
   "metadata": {},
   "source": [
    "### Import the necessary libraries"
   ]
  },
  {
   "cell_type": "code",
   "execution_count": null,
   "metadata": {},
   "outputs": [],
   "source": [
    "import numpy as np\n",
    "import pandas as pd\n",
    "import xarray as xr\n",
    "import matplotlib.pyplot as plt\n",
    "import seaborn as sns\n",
    "sns.set()\n",
    "pd.options.mode.chained_assignment = None"
   ]
  },
  {
   "cell_type": "markdown",
   "metadata": {},
   "source": [
    "## Import necessary Data"
   ]
  },
  {
   "cell_type": "markdown",
   "metadata": {},
   "source": [
    "### Coastal locations and model names"
   ]
  },
  {
   "cell_type": "code",
   "execution_count": null,
   "metadata": {},
   "outputs": [],
   "source": [
    "maskpoints=pd.read_excel('../Data Samples/Excels/maskpointsfile.xlsx')\n",
    "Models = ['ACCESS','BCC-CSM', 'CCSM4', 'FGOALS', 'GFDL', 'IPSL', 'MIROC5', 'MPI', 'MRI', 'NorESM']"
   ]
  },
  {
   "cell_type": "markdown",
   "metadata": {},
   "source": [
    "### Upwelling Intensity Data\n",
    "I have taken the done some preprocessing of the data to speed up calculation times. You may either use Option 1 (Preprocessing Complete - No calculations needed, much faster) or Option 2 (Minor Preprocessing completed - Calculations still required, much slower) below to import the data."
   ]
  },
  {
   "cell_type": "markdown",
   "metadata": {},
   "source": [
    "##### Option 1: Import Pre-Calculated data"
   ]
  },
  {
   "cell_type": "code",
   "execution_count": null,
   "metadata": {},
   "outputs": [],
   "source": [
    "StartEndDates = pd.read_excel(\"../Data Samples/Excels/StartEndDates.xlsx\")"
   ]
  },
  {
   "cell_type": "markdown",
   "metadata": {},
   "source": [
    "##### Option 2: Calculations still required. \n",
    "This takes much longer than option 1, but it's helpful to read through the code to understand the calculations. The general shape of the daily averages for upwelling intensity are shaped with a peak in the middle of the year (See \"Upwelling Comparisons - Daily Averages.ipynb\" for visual). We define the upwelling season start date as the first point of inflection of upwelling intensity in the year, and the season end date as the second point of inflection in the year. We make some assumptions (the start date is not in January) to rule out data inconsistencies at the beginning of the year"
   ]
  },
  {
   "cell_type": "code",
   "execution_count": null,
   "metadata": {
    "scrolled": true
   },
   "outputs": [],
   "source": [
    "StartEndDates = pd.DataFrame(columns=['Model', 'Lat','TimeFrame', 'StartDate', 'EndDate'])\n",
    "indexnum=0\n",
    "for Model in Models:\n",
    "    print(Model)\n",
    "    \n",
    "    BS_df = pd.read_excel('../Data Samples/Excels/Daily Averages{}_BS_DailyAverages.xlsx'.format(Model))\n",
    "    RCP_df = pd.read_excel('../Data Samples/Excels/Daily Averages/{}_RCP_DailyAverages.xlsx'.format(Model))\n",
    "    for lat in BS_df.columns:\n",
    "        BS_timeline = BS_df[[lat]]\n",
    "        RCP_timeline = RCP_df[[lat]]\n",
    "    \n",
    "        \n",
    "        BS_timeline['dates'] = BS_timeline.index + 1\n",
    "        RCP_timeline['dates'] = RCP_timeline.index + 1\n",
    "        \n",
    "        i=0\n",
    "        print('Calculating Dates....' + str(lat))\n",
    "        try:\n",
    "            BS_timeline['slope']= 0\n",
    "            while i < len(BS_timeline.iloc[:, 0]):\n",
    "                if i==0:\n",
    "                    BS_timeline.loc[i, 'slope'] = 0\n",
    "                    RCP_timeline.loc[i, 'slope'] = 0\n",
    "                else:\n",
    "                    BS_timeline.loc[i, 'slope'] = (BS_timeline.loc[i, lat] - BS_timeline.loc[i-1, lat])/2\n",
    "                    RCP_timeline.loc[i, 'slope'] = (RCP_timeline.loc[i, lat] - RCP_timeline.loc[i-1, lat])/2  \n",
    "                i+=1\n",
    "            BS_timeline.loc[55:65, 'slope'] = 0\n",
    "            RCP_timeline.loc[55:65, 'slope'] = 0\n",
    "            peak = BS_timeline.where(BS_timeline.loc[:,lat] == max(BS_timeline.loc[:,lat])).dropna().loc[:,'dates'].iloc[0]\n",
    "            BS_start = BS_timeline.where(BS_timeline.loc[30:peak,'slope'] == max(BS_timeline.loc[30:peak,'slope'])).dropna().loc[:,'dates'].iloc[0]\n",
    "            BS_end = BS_timeline.where(BS_timeline.loc[peak:305,'slope'] == min(BS_timeline.loc[peak:305,'slope'])).dropna().loc[:,'dates'].iloc[0]\n",
    "            StartEndDates.loc[indexnum,:]  = ['{}'.format(Model), lat, 'Historical', BS_start, BS_end]\n",
    "\n",
    "            indexnum+=1\n",
    "            peak = RCP_timeline.where(RCP_timeline.loc[:,lat] == max(RCP_timeline.loc[:, lat])).dropna().loc[:,'dates'].iloc[0]\n",
    "            RCP_start = RCP_timeline.where(RCP_timeline.loc[30:peak,'slope'] == max(RCP_timeline.loc[30:peak,'slope'])).dropna().loc[:,'dates'].iloc[0]\n",
    "            RCP_end = RCP_timeline.where(RCP_timeline.loc[peak:305,'slope'] == min(RCP_timeline.loc[peak:305,'slope'])).dropna().loc[:,'dates'].iloc[0]\n",
    "            StartEndDates.loc[indexnum,:]  = ['{}'.format(Model), lat, 'Future', RCP_start, RCP_end]\n",
    "            indexnum+=1\n",
    "        except:\n",
    "            print('ERROR: {}, {}'.format(Model, str(lat)))\n",
    "            \n",
    "        \n",
    "StartEndDates.loc[:,'Lat'] = StartEndDates.loc[:,'Lat'].astype(float)\n",
    "StartEndDates.loc[:,'StartDate'] = StartEndDates.loc[:,'StartDate'].astype(int)\n",
    "StartEndDates.loc[:,'EndDate'] = StartEndDates.loc[:,'EndDate'].astype(int)\n"
   ]
  },
  {
   "cell_type": "markdown",
   "metadata": {},
   "source": [
    "### Plotting\n",
    "The following graphs show the start date, end date, and duration of the upwelling seasons across all models. These plots show the minimum, maximum, median and 1st and 3rd quartiles at each selected Coastal location."
   ]
  },
  {
   "cell_type": "code",
   "execution_count": null,
   "metadata": {
    "scrolled": false
   },
   "outputs": [],
   "source": [
    "palette = {'Historical': 'cornflowerblue', 'Future': 'firebrick'}\n",
    "StartEndDates_models = StartEndDates.set_index('Model')\n",
    "StartEndDates_models_grouped = StartEndDates_models.reset_index().set_index(['Lat', 'TimeFrame']).sort_index().reset_index()"
   ]
  },
  {
   "cell_type": "markdown",
   "metadata": {},
   "source": [
    "### Start Date"
   ]
  },
  {
   "cell_type": "code",
   "execution_count": null,
   "metadata": {},
   "outputs": [],
   "source": [
    "fig = plt.figure(figsize=(20,10))\n",
    "start_ax = fig.add_subplot(111)\n",
    "startplot= sns.boxplot(x='Lat', y='StartDate', hue='TimeFrame', data=StartEndDates_models_grouped.round(1), ax=start_ax, palette=palette)\n",
    "start_ax.set_ylabel('Day of Year', fontsize = 24.0)\n",
    "start_ax.set_xlabel('', fontsize = 24)\n",
    "start_ax.set_title('Start Date', size=24)\n",
    "start_ax.tick_params(axis = 'both', which = 'major', labelsize = 24)"
   ]
  },
  {
   "cell_type": "markdown",
   "metadata": {},
   "source": [
    "### End Date"
   ]
  },
  {
   "cell_type": "code",
   "execution_count": null,
   "metadata": {},
   "outputs": [],
   "source": [
    "fig = plt.figure(figsize=(20,10))\n",
    "end_ax=fig.add_subplot(111)\n",
    "endplot = sns.boxplot(x='Lat', y='EndDate', hue='TimeFrame', data=StartEndDates_models_grouped.round(1), ax=end_ax, palette=palette)\n",
    "end_ax.set_ylabel('Day of Year', fontsize = 24.0)\n",
    "end_ax.set_xlabel('', fontsize = 24)\n",
    "end_ax.set_title('End Date', size=24)\n",
    "end_ax.tick_params(axis = 'both', which = 'major', labelsize = 24)"
   ]
  },
  {
   "cell_type": "markdown",
   "metadata": {},
   "source": [
    "### Season Duration"
   ]
  },
  {
   "cell_type": "code",
   "execution_count": null,
   "metadata": {
    "scrolled": false
   },
   "outputs": [],
   "source": [
    "import matplotlib.pyplot as plt\n",
    "sns.set()\n",
    "StartEndDates['Duration'] = 365 - (365-StartEndDates['EndDate']) - StartEndDates['StartDate']\n",
    "\n",
    "palette = {'Historical': 'cornflowerblue', 'Future': 'firebrick'}\n",
    "StartEndDates_models = StartEndDates.set_index('Model')\n",
    "StartEndDates_models_grouped = StartEndDates_models.reset_index().set_index(['Lat', 'TimeFrame']).sort_index().reset_index()\n",
    "fig = plt.figure(figsize=(20,10))\n",
    "\n",
    "dur_ax = fig.add_subplot(111)\n",
    "durplot= sns.boxplot(x='Lat', y='Duration', hue='TimeFrame', data=StartEndDates_models_grouped.round(1), ax=dur_ax, palette=palette)\n",
    "dur_ax.set_ylabel('Day of Year', fontsize = 24.0)\n",
    "dur_ax.set_xlabel('', fontsize = 24)\n",
    "\n",
    "dur_ax.set_title('Season Duration', size=24)\n",
    "dur_ax.tick_params(axis = 'both', which = 'major', labelsize = 24)"
   ]
  },
  {
   "cell_type": "code",
   "execution_count": null,
   "metadata": {},
   "outputs": [],
   "source": [
    "import scipy.stats as stats\n",
    "StartEndDates_models_grouped.reset_index(inplace=True)\n",
    "StartEndDates_models_grouped.set_index(['Lat', 'TimeFrame'], inplace=True)\n",
    "\n",
    "pvals={}\n",
    "pvals['Start Date'] = {}\n",
    "pvals['End Date'] = {}\n",
    "pvals['Duration'] = {}\n",
    "for lat, timeframe in StartEndDates_models_grouped.index:\n",
    "\n",
    "    start_tstat, start_p = stats.ttest_ind(StartEndDates_models_grouped.loc[lat, 'Historical']['StartDate'], StartEndDates_models_grouped.loc[lat, 'Future']['StartDate'])\n",
    "    difference = StartEndDates_models_grouped.loc[lat, 'Historical']['StartDate'].mean() -  StartEndDates_models_grouped.loc[lat, 'Future']['StartDate'].mean()\n",
    "    pvals['Start Date'][lat] = {'Pvalue': start_p, 'Difference': difference}\n",
    "    \n",
    "    end_tstat, end_p = stats.ttest_ind(StartEndDates_models_grouped.loc[lat, 'Historical']['EndDate'], StartEndDates_models_grouped.loc[lat, 'Future']['EndDate'])\n",
    "    difference = StartEndDates_models_grouped.loc[lat, 'Historical']['EndDate'].mean() -  StartEndDates_models_grouped.loc[lat, 'Future']['EndDate'].mean()\n",
    "    pvals['End Date'][lat] = {'Pvalue': end_p, 'Difference': difference}\n",
    "    \n",
    "    duration_tstat, duration_p = stats.ttest_ind(StartEndDates_models_grouped.loc[lat, 'Historical']['Duration'], StartEndDates_models_grouped.loc[lat, 'Future']['Duration'])\n",
    "    difference = StartEndDates_models_grouped.loc[lat, 'Historical']['Duration'].mean() -  StartEndDates_models_grouped.loc[lat, 'Future']['Duration'].mean()\n",
    "    pvals['Duration'][lat] = {'Pvalue': duration_p, 'Difference': difference}\n",
    "    \n",
    "StartStats = pd.DataFrame.from_dict(pvals['Start Date'], orient='index')\n",
    "EndStats = pd.DataFrame.from_dict(pvals['End Date'], orient='index')\n",
    "DurationStats = pd.DataFrame.from_dict(pvals['Duration'], orient='index')"
   ]
  },
  {
   "cell_type": "markdown",
   "metadata": {},
   "source": [
    "## Latitudes with Statistically Significant Difference in Start Date"
   ]
  },
  {
   "cell_type": "code",
   "execution_count": null,
   "metadata": {},
   "outputs": [],
   "source": [
    "for idx, columns in StartStats.iterrows():\n",
    "    if columns['Pvalue']>.05:\n",
    "        StartStats.drop(idx, inplace=True)\n",
    "StartStats"
   ]
  },
  {
   "cell_type": "markdown",
   "metadata": {},
   "source": [
    "## Latitudes with Statistically Significant Difference in End Date"
   ]
  },
  {
   "cell_type": "code",
   "execution_count": null,
   "metadata": {},
   "outputs": [],
   "source": [
    "for idx, columns in EndStats.iterrows():\n",
    "    if columns['Pvalue']>.05:\n",
    "        EndStats.drop(idx, inplace=True)\n",
    "EndStats"
   ]
  },
  {
   "cell_type": "markdown",
   "metadata": {},
   "source": [
    "## Latitudes with Statistically Significant Different Season Duration"
   ]
  },
  {
   "cell_type": "code",
   "execution_count": null,
   "metadata": {},
   "outputs": [],
   "source": [
    "for idx, columns in DurationStats.iterrows():\n",
    "    if columns['Pvalue']>.05:\n",
    "        DurationStats.drop(idx, inplace=True)\n",
    "DurationStats"
   ]
  },
  {
   "cell_type": "markdown",
   "metadata": {},
   "source": [
    "From these, we can see that the change in season overall tends to be at the higher latitudes in the study region (greater than 40 degrees Latitude). We also see changes in the start and end date along the coastline at 32.67 degrees latitude. This is in the region of the Mexican/American border, and is one of the lower latitudinal locations in our study."
   ]
  }
 ],
 "metadata": {
  "kernelspec": {
   "display_name": "Python 3",
   "language": "python",
   "name": "python3"
  },
  "language_info": {
   "codemirror_mode": {
    "name": "ipython",
    "version": 3
   },
   "file_extension": ".py",
   "mimetype": "text/x-python",
   "name": "python",
   "nbconvert_exporter": "python",
   "pygments_lexer": "ipython3",
   "version": "3.6.5"
  }
 },
 "nbformat": 4,
 "nbformat_minor": 2
}
