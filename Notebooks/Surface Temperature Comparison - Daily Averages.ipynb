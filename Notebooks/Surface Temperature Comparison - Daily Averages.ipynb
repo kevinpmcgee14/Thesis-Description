{
 "cells": [
  {
   "cell_type": "markdown",
   "metadata": {},
   "source": [
    "# Surface Temperature Comparison - Daily Averages"
   ]
  },
  {
   "cell_type": "markdown",
   "metadata": {},
   "source": [
    "### Import the necessary libraries"
   ]
  },
  {
   "cell_type": "code",
   "execution_count": null,
   "metadata": {},
   "outputs": [],
   "source": [
    "import numpy as np\n",
    "import pandas as pd\n",
    "import xarray as xr\n",
    "import matplotlib.pyplot as plt\n",
    "import seaborn as sns\n",
    "import os\n",
    "sns.set()"
   ]
  },
  {
   "cell_type": "markdown",
   "metadata": {},
   "source": [
    "### Import the necessary data, look at the general schema. The units of the upwelling data (BS_final & RCP_final) are Degrees Celsius. I have done some calculations beforehand to reduce the time waiting on calculations, and saved data to excel files."
   ]
  },
  {
   "cell_type": "code",
   "execution_count": null,
   "metadata": {},
   "outputs": [],
   "source": []
  },
  {
   "cell_type": "code",
   "execution_count": null,
   "metadata": {},
   "outputs": [],
   "source": [
    "LandMask = xr.open_dataset('../Data Samples/NetCDF/LandMask.nc').mask[0,:,:]\n",
    "maskpoints=pd.read_excel('../Data Samples/Excels/maskpointsfile.xlsx')\n",
    "BS = pd.read_excel('../Data Samples/Excels/BS_ST_DayofYear_LatLonAvg.xlsx')\n",
    "RCP = pd.read_excel('../Data Samples/Excels/RCP_ST_DayofYear_LatLonAvg.xlsx')\n",
    "BS.head()"
   ]
  },
  {
   "cell_type": "markdown",
   "metadata": {},
   "source": [
    "#### Schema is Year, Day, and 10 Model Ensemble. Forward fill the years and group the index by year and day."
   ]
  },
  {
   "cell_type": "code",
   "execution_count": null,
   "metadata": {},
   "outputs": [],
   "source": [
    "BS[['Year']] = BS[['Year']].ffill(axis=0)\n",
    "RCP[['Year']] = RCP[['Year']].ffill(axis=0)\n",
    "BS.set_index(['Year','Day'],inplace=True)\n",
    "RCP.set_index(['Year', 'Day'], inplace=True)\n",
    "RCP = RCP.loc[2010:2050]"
   ]
  },
  {
   "cell_type": "markdown",
   "metadata": {},
   "source": [
    "# Plotting"
   ]
  },
  {
   "cell_type": "markdown",
   "metadata": {},
   "source": [
    "### Set the desired models for plotting in the \"models\" variable below. See column headers above for potential model names."
   ]
  },
  {
   "cell_type": "markdown",
   "metadata": {},
   "source": [
    "### The following plots will show each models daily average upwelling volume for each year for the Historical (1965-2005, Blue) and Future (2010-2050, Red), as well as the averages across both time periods (thick lines)."
   ]
  },
  {
   "cell_type": "code",
   "execution_count": null,
   "metadata": {},
   "outputs": [],
   "source": [
    "# Example:\n",
    "models = ['ACCESS', 'BCC-CSM', 'CCSM4','FGOALS', 'GFDL', 'IPSL', 'MIROC5', 'MPI', 'NorESM']"
   ]
  },
  {
   "cell_type": "code",
   "execution_count": null,
   "metadata": {
    "scrolled": true
   },
   "outputs": [],
   "source": [
    "for model in models:\n",
    "    model_df = BS.loc[:, model]\n",
    "    Year = 1965\n",
    "    fig = plt.figure(figsize=(20,20))\n",
    "    ax1 = fig.add_subplot(111)\n",
    "    while Year <=2005:\n",
    "        year_df = model_df.loc[Year]\n",
    "        plot = ax1.plot(year_df, linewidth=0.5, label=\"_nolegend_\", color='cornflowerblue', linestyle=':')\n",
    "        Year+=1\n",
    "    total_ensemble_BS = model_df.groupby('Day').mean()\n",
    "    \n",
    "    model_df = RCP.loc[:, model]\n",
    "    Year = 2010\n",
    "    while Year <=2050:\n",
    "        year_df = model_df.loc[Year]\n",
    "        plot = ax1.plot(year_df, linewidth=0.5, label=\"_nolegend_\", color='firebrick', linestyle=':')\n",
    "        Year+=1\n",
    "    total_ensemble_RCP = model_df.groupby('Day').mean()\n",
    "    plot = ax1.plot(total_ensemble_BS, linewidth=6.0, label='Historical Average', color='cornflowerblue')\n",
    "    plot = ax1.plot(total_ensemble_RCP, linewidth=6.0, label='Future Average',color='firebrick')\n",
    "    fig.suptitle('{} Daily Mean Surface Temperature: Historical & Future'.format(model), fontsize=32)\n",
    "    leg=ax1.legend(bbox_to_anchor=(1.05, 1), loc=2, borderaxespad=0, fontsize=12)\n",
    "    xlabel = ax1.set_xlabel('Day of Year', fontsize=30)\n",
    "    ylabel = ax1.set_ylabel('Temperature (K)', fontsize=30)\n",
    "    box = ax1.get_position()\n",
    "    ax1.set_position([box.x0, box.y0, box.width * 0.8, box.height])"
   ]
  },
  {
   "cell_type": "markdown",
   "metadata": {},
   "source": [
    "### The following block creates an average over all models (aka \"ensemble average\"). Generate the Mann-Whitney U Statistic, P value, and effective size to determine the statistical significance of the difference between the two datasets."
   ]
  },
  {
   "cell_type": "code",
   "execution_count": null,
   "metadata": {},
   "outputs": [],
   "source": [
    "import scipy.stats as stats\n",
    "Year = 1965\n",
    "fig = plt.figure(figsize=(20,20))\n",
    "ax1 = fig.add_subplot(111)\n",
    "while Year <=2005:\n",
    "    year_df = BS.loc[Year].mean(axis=1)\n",
    "    plot = ax1.plot(year_df, linewidth=0.25, label='Ensemble',color='cornflowerblue')\n",
    "    Year+=1\n",
    "total_ensemble_BS = BS.groupby('Day').mean().mean(axis=1)\n",
    "plot = ax1.plot(total_ensemble_BS, linewidth=5.0, label='Ensemble',color='cornflowerblue')\n",
    "\n",
    "Year = 2010\n",
    "while Year <=2050:\n",
    "    year_df = RCP.loc[Year].mean(axis=1)\n",
    "    plot = ax1.plot(year_df, linewidth=0.25, label='Ensemble',color='firebrick')\n",
    "    Year+=1\n",
    "total_ensemble_RCP = RCP.groupby('Day').mean().mean(axis=1)\n",
    "plot = ax1.plot(total_ensemble_RCP, linewidth=5.0, label='Ensemble',color='firebrick')\n",
    "fig.suptitle('Ensemble Daily Mean Surface Temperature: Historical & Future', fontsize=32)\n",
    "ax1.set_xlabel('Day of Year', fontsize=30)\n",
    "ax1.set_ylabel('Temperature (K)', fontsize=30)\n",
    "\n",
    "\n",
    "na = len(total_ensemble_BS)\n",
    "nb = len(total_ensemble_RCP)\n",
    "U, p = stats.mannwhitneyu(total_ensemble_BS, total_ensemble_RCP)\n",
    "r = 1-(2*U)/(na*nb)\n",
    "stats =  pd.DataFrame([[U,p,r]], columns=['U statistic', 'p Value', 'Effective Size'])\n",
    "stats"
   ]
  }
 ],
 "metadata": {
  "kernelspec": {
   "display_name": "Python 3",
   "language": "python",
   "name": "python3"
  },
  "language_info": {
   "codemirror_mode": {
    "name": "ipython",
    "version": 3
   },
   "file_extension": ".py",
   "mimetype": "text/x-python",
   "name": "python",
   "nbconvert_exporter": "python",
   "pygments_lexer": "ipython3",
   "version": "3.6.5"
  }
 },
 "nbformat": 4,
 "nbformat_minor": 2
}
