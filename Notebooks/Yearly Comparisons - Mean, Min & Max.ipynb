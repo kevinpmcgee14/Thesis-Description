{
 "cells": [
  {
   "cell_type": "markdown",
   "metadata": {},
   "source": [
    "# Surface Temperature Comparison - Yearly Stats"
   ]
  },
  {
   "cell_type": "markdown",
   "metadata": {},
   "source": [
    "### Import required libraries"
   ]
  },
  {
   "cell_type": "code",
   "execution_count": null,
   "metadata": {},
   "outputs": [],
   "source": [
    "import json\n",
    "import numpy as np\n",
    "import pandas as pd\n",
    "import xarray as xr\n",
    "import seaborn as sns\n",
    "import matplotlib.pyplot as plt\n",
    "from matplotlib.ticker import FormatStrFormatter\n",
    "import warnings\n",
    "import holoviews as hv\n",
    "from bokeh.plotting import figure, show, output_file\n",
    "from bokeh.models import ColumnDataSource, HoverTool, Slope\n",
    "from bokeh.plotting import figure, show, output_file\n",
    "from bokeh.themes import Theme\n",
    "from bokeh.io import curdoc\n",
    "hv.extension('bokeh')\n",
    "warnings.filterwarnings(\"ignore\")\n",
    "sns.set()"
   ]
  },
  {
   "cell_type": "markdown",
   "metadata": {},
   "source": [
    "### Import required data. \n",
    "BS is Historical (1965-2005) and RCP is Future (2010 - 2050) 6-Hourly projections of Surface Temperature. The data is stored by year, so for each time period we open all files within that time period and concatenate them together along the \"time\" axis. "
   ]
  },
  {
   "cell_type": "code",
   "execution_count": null,
   "metadata": {},
   "outputs": [],
   "source": [
    "maskpoints=pd.read_excel(r'..\\Data Samples\\Excels\\maskpointsfile.xlsx')\n",
    "BS = xr.open_dataset(r'..\\Data Samples\\NetCDF\\SurfaceTemp\\BS_Yearly.nc')\n",
    "RCP = xr.open_dataset(r'..\\Data Samples\\NetCDF\\SurfaceTemp\\RCP_Yearly.nc')\n",
    "BS.SurfaceTemp"
   ]
  },
  {
   "cell_type": "markdown",
   "metadata": {},
   "source": [
    "Looking at the shape (time: 58277, iy: 170, jx: 57) and chunksize (1337, 170, 57), we can see that the files were concatenated along the time axis as we expected (58277 time steps/1337 time steps per year = 39.55 years)"
   ]
  },
  {
   "cell_type": "markdown",
   "metadata": {},
   "source": [
    "**reject_outliers()** was written to remove extreme outliers in the dataset by using the median of the data and the standard deviation. The numerical models used to generate this data tend to have some outliers at the beginning and end of years.  "
   ]
  },
  {
   "cell_type": "code",
   "execution_count": null,
   "metadata": {},
   "outputs": [],
   "source": [
    "def reject_outliers(data, m = 4.):\n",
    "    d = np.abs(data - np.nanmedian(data))\n",
    "    mdev = np.nanmedian(d)\n",
    "    s = d/mdev if mdev else 0.\n",
    "    return np.where(s<m, data, np.nan)"
   ]
  },
  {
   "cell_type": "markdown",
   "metadata": {},
   "source": [
    "### Data manipulations\n",
    "* Remove Outliers from the outliers from the dataset\n",
    "* Convert from Kelvin to Celsius for analysis\n",
    "* Get the mean, maximum and minimum for each year"
   ]
  },
  {
   "cell_type": "code",
   "execution_count": null,
   "metadata": {},
   "outputs": [],
   "source": [
    "variable = 'SurfaceTemp'\n",
    "label = 'C'\n",
    "\n",
    "BS_variable, RCP_variable = getattr(BS, variable), getattr(RCP, variable)\n",
    "BS_variable.data = reject_outliers(BS_variable.data, m=5.)\n",
    "RCP_variable.data = reject_outliers(RCP_variable.data, m=5.)\n",
    "\n",
    "\n",
    "BS_Yearly_mean = BS_variable.mean(['iy','jx'])\n",
    "RCP_Yearly_mean = RCP_variable.mean(['iy','jx'])\n",
    "\n",
    "BS_Yearly_max = BS_variable.max(['iy','jx'])\n",
    "RCP_Yearly_max = RCP_variable.max(['iy','jx'])\n",
    "\n",
    "BS_Yearly_min = BS_variable.min(['iy','jx'])\n",
    "RCP_Yearly_min = RCP_variable.min(['iy','jx'])"
   ]
  },
  {
   "cell_type": "markdown",
   "metadata": {},
   "source": [
    "### Plotting\n",
    "\n",
    "#### Set parameters to be used across plots"
   ]
  },
  {
   "cell_type": "code",
   "execution_count": null,
   "metadata": {},
   "outputs": [],
   "source": [
    "key={}\n",
    "key[1.0]= 'Historical'\n",
    "key[2.0] = 'Future'\n",
    "palette = {'Historical': 'cornflowerblue', 'Future': 'firebrick'}\n",
    "linecolor='#414e56'\n",
    "linestyle='--'\n",
    "\n",
    "\n",
    "# These settings are specific for our interactive plots to match the built in theme of our static plots.\n",
    "jsontheme = json.load(open(r'D:\\Upwelling\\Thesis-Description\\plotting_theme.json', 'rb'))\n",
    "theme = Theme(json=jsontheme)"
   ]
  },
  {
   "cell_type": "markdown",
   "metadata": {},
   "source": [
    "#### Create a time index across all 80 years, which will be used in our plotting analysis"
   ]
  },
  {
   "cell_type": "code",
   "execution_count": null,
   "metadata": {},
   "outputs": [],
   "source": [
    "time_x = np.append(BS_Yearly_mean.time.data, RCP_Yearly_mean.time.data)\n",
    "year_x=pd.to_datetime(time_x).year\n",
    "hue_key = np.ones_like(year_x)\n",
    "hue_key[year_x>=2005] = 2\n",
    "hue = [key[i] for i in hue_key]"
   ]
  },
  {
   "cell_type": "markdown",
   "metadata": {},
   "source": [
    "#### Plot yearly mean, with trendline and confidence intervals across all years\n",
    "\n",
    "*Static Plot*"
   ]
  },
  {
   "cell_type": "code",
   "execution_count": null,
   "metadata": {
    "scrolled": false
   },
   "outputs": [],
   "source": [
    "ET_y = np.append(BS_Yearly_mean.data, RCP_Yearly_mean.data)\n",
    "\n",
    "fig = plt.figure(figsize=(20,10))\n",
    "ax1 = fig.add_subplot(111)\n",
    "xlim = ax1.set_xlim(1960, 2055)\n",
    "title = ax1.set_title('Mean', fontsize=22)\n",
    "ylabel = ax1.set_ylabel(label, fontsize = 22.0)\n",
    "xlabel = ax1.set_xlabel('Year', fontsize = 22)\n",
    "mean_data = pd.DataFrame([ET_y, year_x], index=[label, 'Year']).T\n",
    "\n",
    "\n",
    "regplot = sns.regplot(ax=ax1, x='Year', y=label, data=mean_data, scatter=False, line_kws={'color': linecolor,'linestyle': linestyle})\n",
    "scatterplot = sns.scatterplot(ax=ax1,x=year_x, y=ET_y, hue=hue, palette=palette)\n",
    "xtickp = plt.setp(regplot.get_xticklabels(), fontsize=18)\n",
    "ytickp = plt.setp(regplot.get_yticklabels(), fontsize=18)\n",
    "ax1.yaxis.set_major_formatter(FormatStrFormatter('%.2f'))"
   ]
  },
  {
   "cell_type": "markdown",
   "metadata": {},
   "source": [
    "*Interactive Plot*"
   ]
  },
  {
   "cell_type": "code",
   "execution_count": null,
   "metadata": {},
   "outputs": [],
   "source": [
    "mean_data['Hue'] = [palette[x] for x in hue]  \n",
    "mean_data['TimeFrame'] = hue\n",
    "    \n",
    "hover = HoverTool(tooltips=[\n",
    "    (variable, '@{}'.format(label)),\n",
    "    (\"Year\", '@Year')\n",
    "])\n",
    "\n",
    "\n",
    "curdoc().theme = theme\n",
    "\n",
    "mean_st_p = figure(title= 'Mean', plot_height=500, plot_width=950, tools=[hover, \"pan,reset,wheel_zoom\"] )\n",
    "\n",
    "mean_st_p.xaxis.axis_label = 'Year'\n",
    "mean_st_p.yaxis.axis_label = label\n",
    "mean_st_p.scatter('Year', label, color='Hue', source=ColumnDataSource(mean_data[mean_data['TimeFrame']=='Historical']), legend='TimeFrame')\n",
    "mean_st_p.scatter('Year', label, color='Hue', source=ColumnDataSource(mean_data[mean_data['TimeFrame']=='Future']), legend='TimeFrame')\n",
    "\n",
    "# Add trendline\n",
    "x, y = mean_data.loc[:,'Year'].values, mean_data.loc[:,label].values\n",
    "par = np.polyfit(x, y, 1, full=True)\n",
    "gradient=par[0][0]\n",
    "y_intercept=par[0][1]\n",
    "slope = Slope(gradient=gradient, y_intercept=y_intercept, line_color=linecolor, line_dash='dashed',line_width=1.5)\n",
    "mean_st_p.add_layout(slope)\n",
    "\n",
    "output_file('..\\Visualizations\\{}_mean.html'.format(variable))\n",
    "show(mean_st_p)"
   ]
  },
  {
   "cell_type": "markdown",
   "metadata": {},
   "source": [
    "#### Plot yearly maximum, with trendline and confidence intervals across all years\n",
    "\n",
    "*Static Plot*"
   ]
  },
  {
   "cell_type": "code",
   "execution_count": null,
   "metadata": {},
   "outputs": [],
   "source": [
    "ET_y = np.append(BS_Yearly_max.data, RCP_Yearly_max.data)\n",
    "\n",
    "fig = plt.figure(figsize=(20,10))\n",
    "ax2 = fig.add_subplot(111)\n",
    "xlim = ax2.set_xlim(1960, 2055)\n",
    "title = ax2.set_title('Maximum', fontsize=22)\n",
    "ylabel = ax2.set_ylabel(label, fontsize = 22.0)\n",
    "xlabel = ax2.set_xlabel('Year', fontsize = 22)\n",
    "\n",
    "max_data = pd.DataFrame([ET_y, year_x], index=[label, 'Year']).T\n",
    "regplot = sns.regplot(ax=ax2, x='Year', y=label, data=max_data, scatter=False, line_kws={'color': linecolor,'linestyle': linestyle})\n",
    "scatterplot = sns.scatterplot(ax=ax2,x=year_x, y=ET_y, hue=hue, palette=palette)\n",
    "xtickp = plt.setp(regplot.get_xticklabels(), fontsize=18)\n",
    "ytickp = plt.setp(regplot.get_yticklabels(), fontsize=18)\n",
    "ax2.yaxis.set_major_formatter(FormatStrFormatter('%.2f'))"
   ]
  },
  {
   "cell_type": "markdown",
   "metadata": {},
   "source": [
    "*Interactice Plot*"
   ]
  },
  {
   "cell_type": "code",
   "execution_count": null,
   "metadata": {},
   "outputs": [],
   "source": [
    "max_data['Hue'] = [palette[x] for x in hue]\n",
    "max_data['TimeFrame'] = hue\n",
    "    \n",
    "hover = HoverTool(tooltips=[\n",
    "    (variable, \"@{}\".format(label)),\n",
    "    (\"Year\", '@Year')\n",
    "])\n",
    "\n",
    "\n",
    "curdoc().theme = theme\n",
    "\n",
    "max_st_p = figure(title= 'Maximum', plot_height=500, plot_width=950, tools=[hover, \"pan,reset,wheel_zoom\"] )\n",
    "\n",
    "max_st_p.xaxis.axis_label = 'Year'\n",
    "max_st_p.yaxis.axis_label = label\n",
    "max_st_p.scatter('Year', label, color='Hue', source=ColumnDataSource(max_data[max_data['TimeFrame']=='Historical']), legend='TimeFrame')\n",
    "max_st_p.scatter('Year', label, color='Hue', source=ColumnDataSource(max_data[max_data['TimeFrame']=='Future']), legend='TimeFrame')\n",
    "\n",
    "# Add trendline\n",
    "x, y = max_data.loc[:,'Year'].values, max_data.loc[:,label].values\n",
    "par = np.polyfit(x, y, 1, full=True)\n",
    "gradient=par[0][0]\n",
    "y_intercept=par[0][1]\n",
    "slope = Slope(gradient=gradient, y_intercept=y_intercept, line_color=linecolor, line_dash='dashed',line_width=1.5)\n",
    "max_st_p.add_layout(slope)\n",
    "\n",
    "output_file('..\\Visualizations\\{}_max.html'.format(variable))\n",
    "show(max_st_p)"
   ]
  },
  {
   "cell_type": "markdown",
   "metadata": {},
   "source": [
    "#### Plot yearly minimum, with trendline and confidence intervals across all years\n",
    "\n",
    "*Static Plot*"
   ]
  },
  {
   "cell_type": "code",
   "execution_count": null,
   "metadata": {},
   "outputs": [],
   "source": [
    "ET_y = np.append(BS_Yearly_min.data, RCP_Yearly_min.data)\n",
    "\n",
    "fig = plt.figure(figsize=(20,10))\n",
    "ax3 = fig.add_subplot(111)\n",
    "xlim = ax3.set_xlim(1960, 2055)\n",
    "title = ax3.set_title('Minimum', fontsize=22)\n",
    "ylabel = ax3.set_ylabel(label, fontsize = 22.0)\n",
    "xlabel = ax3.set_xlabel('Year', fontsize = 22)\n",
    "min_data = pd.DataFrame([ET_y, year_x], index=[label, 'Year']).T\n",
    "regplot = sns.regplot(ax=ax3, x='Year', y=label, data=min_data, scatter=False, line_kws={'color': linecolor,'linestyle': linestyle})\n",
    "scatterplot = sns.scatterplot(ax=ax3,x=year_x, y=ET_y, hue=hue, palette=palette)\n",
    "xtickp = plt.setp(regplot.get_xticklabels(), fontsize=18)\n",
    "ytickp = plt.setp(regplot.get_yticklabels(), fontsize=18)\n",
    "ax3.yaxis.set_major_formatter(FormatStrFormatter('%.2f'))"
   ]
  },
  {
   "cell_type": "markdown",
   "metadata": {},
   "source": [
    "*Interactive Plot*"
   ]
  },
  {
   "cell_type": "code",
   "execution_count": null,
   "metadata": {
    "scrolled": false
   },
   "outputs": [],
   "source": [
    "min_data['Hue'] = [palette[x] for x in hue]  \n",
    "min_data['TimeFrame'] = hue\n",
    "    \n",
    "hover = HoverTool(tooltips=[\n",
    "    (variable, \"@{}\".format(label)),\n",
    "    (\"Year\", '@Year')\n",
    "])\n",
    "\n",
    "curdoc().theme = theme\n",
    "\n",
    "min_st_p = figure(title= 'Minimum', plot_height=500, plot_width=950, tools=[hover, \"pan,reset,wheel_zoom\"] )\n",
    "\n",
    "min_st_p.xaxis.axis_label = 'Year'\n",
    "min_st_p.yaxis.axis_label = label\n",
    "min_st_p.scatter('Year', label, color='Hue', source=ColumnDataSource(min_data[min_data['TimeFrame']=='Historical']), legend='TimeFrame')\n",
    "min_st_p.scatter('Year', label, color='Hue', source=ColumnDataSource(min_data[min_data['TimeFrame']=='Future']), legend='TimeFrame')\n",
    "\n",
    "# Add trendline\n",
    "x, y = min_data.loc[:,'Year'].values, min_data.loc[:,label].values\n",
    "par = np.polyfit(x, y, 1, full=True)\n",
    "gradient=par[0][0]\n",
    "y_intercept=par[0][1]\n",
    "slope = Slope(gradient=gradient, y_intercept=y_intercept, line_color=linecolor, line_dash='dashed',line_width=1.5)\n",
    "min_st_p.add_layout(slope)\n",
    "\n",
    "output_file('..\\Visualizations\\ST_min.html')\n",
    "show(min_st_p)"
   ]
  },
  {
   "cell_type": "code",
   "execution_count": null,
   "metadata": {},
   "outputs": [],
   "source": [
    "data = {variable:{'Mean': mean_data, 'Max': max_data, 'Min': min_data, 'label': label}}"
   ]
  },
  {
   "cell_type": "markdown",
   "metadata": {},
   "source": [
    "# Upwelling"
   ]
  },
  {
   "cell_type": "markdown",
   "metadata": {},
   "source": [
    "### Let's compare these findings to the upwelling projections\n",
    "\n",
    "We are able to reuse a lot of the same code"
   ]
  },
  {
   "cell_type": "code",
   "execution_count": null,
   "metadata": {},
   "outputs": [],
   "source": [
    "maskpoints=pd.read_excel(r'..\\Data Samples\\Excels\\maskpointsfile.xlsx')\n",
    "BS = xr.open_dataset(r'..\\Data Samples\\NetCDF\\EkmanTransport\\BS_Yearly.nc')\n",
    "RCP = xr.open_dataset(r'..\\Data Samples\\NetCDF\\EkmanTransport\\RCP_Yearly.nc')\n",
    "\n",
    "variable = 'EkmanTransport'\n",
    "label = 'm3_per_s'"
   ]
  },
  {
   "cell_type": "code",
   "execution_count": null,
   "metadata": {},
   "outputs": [],
   "source": [
    "BS_variable, RCP_variable = getattr(BS, variable), getattr(RCP, variable)\n",
    "BS_variable.data = reject_outliers(BS_variable.data, m=5.)\n",
    "RCP_variable.data = reject_outliers(RCP_variable.data, m=5.)\n",
    "\n",
    "\n",
    "BS_Yearly_mean = BS_variable.mean(['iy','jx'])\n",
    "RCP_Yearly_mean = RCP_variable.mean(['iy','jx'])\n",
    "\n",
    "BS_Yearly_max = BS_variable.max(['iy','jx'])\n",
    "RCP_Yearly_max = RCP_variable.max(['iy','jx'])\n",
    "\n",
    "BS_Yearly_min = BS_variable.min(['iy','jx'])\n",
    "RCP_Yearly_min = RCP_variable.min(['iy','jx'])"
   ]
  },
  {
   "cell_type": "code",
   "execution_count": null,
   "metadata": {
    "scrolled": true
   },
   "outputs": [],
   "source": [
    "ET_y = np.append(BS_Yearly_mean.data, RCP_Yearly_mean.data)\n",
    "\n",
    "fig = plt.figure(figsize=(20,10))\n",
    "ax1 = fig.add_subplot(111)\n",
    "xlim = ax1.set_xlim(1960, 2055)\n",
    "title = ax1.set_title('Mean', fontsize=22)\n",
    "ylabel = ax1.set_ylabel(label, fontsize = 22.0)\n",
    "xlabel = ax1.set_xlabel('Year', fontsize = 22)\n",
    "mean_data = pd.DataFrame([ET_y, year_x], index=[label, 'Year']).T\n",
    "\n",
    "\n",
    "regplot = sns.regplot(ax=ax1, x='Year', y=label, data=mean_data, scatter=False, line_kws={'color': linecolor,'linestyle': linestyle})\n",
    "scatterplot = sns.scatterplot(ax=ax1,x=year_x, y=ET_y, hue=hue, palette=palette)\n",
    "xtickp = plt.setp(regplot.get_xticklabels(), fontsize=18)\n",
    "ytickp = plt.setp(regplot.get_yticklabels(), fontsize=18)\n",
    "ax1.yaxis.set_major_formatter(FormatStrFormatter('%.2f'))"
   ]
  },
  {
   "cell_type": "code",
   "execution_count": null,
   "metadata": {},
   "outputs": [],
   "source": [
    "mean_data['Hue'] = [palette[x] for x in hue]  \n",
    "mean_data['TimeFrame'] = hue\n",
    "    \n",
    "hover = HoverTool(tooltips=[\n",
    "    (variable, '@{}'.format(label)),\n",
    "    (\"Year\", '@Year')\n",
    "])\n",
    "\n",
    "\n",
    "curdoc().theme = theme\n",
    "\n",
    "mean_et_p = figure(title= 'Mean', plot_height=500, plot_width=950, tools=[hover, \"pan,reset,wheel_zoom\"] )\n",
    "\n",
    "mean_et_p.xaxis.axis_label = 'Year'\n",
    "mean_et_p.yaxis.axis_label = label\n",
    "mean_et_p.scatter('Year', label, color='Hue', source=ColumnDataSource(mean_data[mean_data['TimeFrame']=='Historical']), legend='TimeFrame')\n",
    "mean_et_p.scatter('Year', label, color='Hue', source=ColumnDataSource(mean_data[mean_data['TimeFrame']=='Future']), legend='TimeFrame')\n",
    "\n",
    "# Add trendline\n",
    "x, y = mean_data.loc[:,'Year'].values, mean_data.loc[:,label].values\n",
    "par = np.polyfit(x, y, 1, full=True)\n",
    "gradient=par[0][0]\n",
    "y_intercept=par[0][1]\n",
    "slope = Slope(gradient=gradient, y_intercept=y_intercept, line_color=linecolor, line_dash='dashed',line_width=1.5)\n",
    "mean_et_p.add_layout(slope)\n",
    "\n",
    "output_file('..\\Visualizations\\{}_mean.html'.format(variable))\n",
    "show(mean_et_p)"
   ]
  },
  {
   "cell_type": "code",
   "execution_count": null,
   "metadata": {},
   "outputs": [],
   "source": [
    "ET_y = np.append(BS_Yearly_max.data, RCP_Yearly_max.data)\n",
    "\n",
    "fig = plt.figure(figsize=(20,10))\n",
    "ax2 = fig.add_subplot(111)\n",
    "xlim = ax2.set_xlim(1960, 2055)\n",
    "title = ax2.set_title('Maximum', fontsize=22)\n",
    "ylabel = ax2.set_ylabel(label, fontsize = 22.0)\n",
    "xlabel = ax2.set_xlabel('Year', fontsize = 22)\n",
    "\n",
    "max_data = pd.DataFrame([ET_y, year_x], index=[label, 'Year']).T\n",
    "regplot = sns.regplot(ax=ax2, x='Year', y=label, data=max_data, scatter=False, line_kws={'color': linecolor,'linestyle': linestyle})\n",
    "scatterplot = sns.scatterplot(ax=ax2,x=year_x, y=ET_y, hue=hue, palette=palette)\n",
    "xtickp = plt.setp(regplot.get_xticklabels(), fontsize=18)\n",
    "ytickp = plt.setp(regplot.get_yticklabels(), fontsize=18)\n",
    "ax2.yaxis.set_major_formatter(FormatStrFormatter('%.2f'))"
   ]
  },
  {
   "cell_type": "code",
   "execution_count": null,
   "metadata": {},
   "outputs": [],
   "source": [
    "max_data['Hue'] = [palette[x] for x in hue]\n",
    "max_data['TimeFrame'] = hue\n",
    "    \n",
    "hover = HoverTool(tooltips=[\n",
    "    (variable, \"@{}\".format(label)),\n",
    "    (\"Year\", '@Year')\n",
    "])\n",
    "\n",
    "\n",
    "curdoc().theme = theme\n",
    "\n",
    "max_et_p = figure(title= 'Maximum', plot_height=500, plot_width=950, tools=[hover, \"pan,reset,wheel_zoom\"] )\n",
    "\n",
    "max_et_p.xaxis.axis_label = 'Year'\n",
    "max_et_p.yaxis.axis_label = label\n",
    "max_et_p.scatter('Year', label, color='Hue', source=ColumnDataSource(max_data[max_data['TimeFrame']=='Historical']), legend='TimeFrame')\n",
    "max_et_p.scatter('Year', label, color='Hue', source=ColumnDataSource(max_data[max_data['TimeFrame']=='Future']), legend='TimeFrame')\n",
    "\n",
    "# Add trendline\n",
    "x, y = max_data.loc[:,'Year'].values, max_data.loc[:,label].values\n",
    "par = np.polyfit(x, y, 1, full=True)\n",
    "gradient=par[0][0]\n",
    "y_intercept=par[0][1]\n",
    "slope = Slope(gradient=gradient, y_intercept=y_intercept, line_color=linecolor, line_dash='dashed',line_width=1.5)\n",
    "max_et_p.add_layout(slope)\n",
    "\n",
    "output_file('..\\Visualizations\\{}_max.html'.format(variable))\n",
    "show(max_et_p)"
   ]
  },
  {
   "cell_type": "code",
   "execution_count": null,
   "metadata": {},
   "outputs": [],
   "source": [
    "ET_y = np.append(BS_Yearly_min.data, RCP_Yearly_min.data)\n",
    "\n",
    "fig = plt.figure(figsize=(20,10))\n",
    "ax3 = fig.add_subplot(111)\n",
    "xlim = ax3.set_xlim(1960, 2055)\n",
    "title = ax3.set_title('Minimum', fontsize=22)\n",
    "ylabel = ax3.set_ylabel(label, fontsize = 22.0)\n",
    "xlabel = ax3.set_xlabel('Year', fontsize = 22)\n",
    "min_data = pd.DataFrame([ET_y, year_x], index=[label, 'Year']).T\n",
    "regplot = sns.regplot(ax=ax3, x='Year', y=label, data=min_data, scatter=False, line_kws={'color': linecolor,'linestyle': linestyle})\n",
    "scatterplot = sns.scatterplot(ax=ax3,x=year_x, y=ET_y, hue=hue, palette=palette)\n",
    "xtickp = plt.setp(regplot.get_xticklabels(), fontsize=18)\n",
    "ytickp = plt.setp(regplot.get_yticklabels(), fontsize=18)\n",
    "ax3.yaxis.set_major_formatter(FormatStrFormatter('%.2f'))"
   ]
  },
  {
   "cell_type": "code",
   "execution_count": null,
   "metadata": {},
   "outputs": [],
   "source": [
    "min_data['Hue'] = [palette[x] for x in hue]  \n",
    "min_data['TimeFrame'] = hue\n",
    "    \n",
    "hover = HoverTool(tooltips=[\n",
    "    (variable, \"@{}\".format(label)),\n",
    "    (\"Year\", '@Year')\n",
    "])\n",
    "\n",
    "curdoc().theme = theme\n",
    "\n",
    "min_et_p = figure(title= 'Minimum', plot_height=500, plot_width=950, tools=[hover, \"pan,reset,wheel_zoom\"] )\n",
    "\n",
    "min_et_p.xaxis.axis_label = 'Year'\n",
    "min_et_p.yaxis.axis_label = label\n",
    "min_et_p.scatter('Year', label, color='Hue', source=ColumnDataSource(min_data[min_data['TimeFrame']=='Historical']), legend='TimeFrame')\n",
    "min_et_p.scatter('Year', label, color='Hue', source=ColumnDataSource(min_data[min_data['TimeFrame']=='Future']), legend='TimeFrame')\n",
    "\n",
    "# Add trendline\n",
    "x, y = min_data.loc[:,'Year'].values, min_data.loc[:,label].values\n",
    "par = np.polyfit(x, y, 1, full=True)\n",
    "gradient=par[0][0]\n",
    "y_intercept=par[0][1]\n",
    "slope = Slope(gradient=gradient, y_intercept=y_intercept, line_color=linecolor, line_dash='dashed',line_width=1.5)\n",
    "min_et_p.add_layout(slope)\n",
    "\n",
    "output_file('..\\Visualizations\\{}_min.html'.format(variable))\n",
    "show(min_et_p)"
   ]
  },
  {
   "cell_type": "code",
   "execution_count": null,
   "metadata": {},
   "outputs": [],
   "source": [
    "data[variable] = {'Mean': mean_data, 'Max': max_data, 'Min': min_data, 'label': label}"
   ]
  },
  {
   "cell_type": "markdown",
   "metadata": {},
   "source": [
    "# Comparisons\n",
    "\n",
    "### The following few blocks will create a grid of our interactive plots to easily compare Surface Temperature to Upwelling Intensity (Called \"Ekman Transport\")"
   ]
  },
  {
   "cell_type": "code",
   "execution_count": null,
   "metadata": {},
   "outputs": [],
   "source": [
    "from bokeh.layouts import gridplot\n",
    "from bokeh.models.widgets import RangeSlider"
   ]
  },
  {
   "cell_type": "code",
   "execution_count": null,
   "metadata": {},
   "outputs": [],
   "source": [
    "rows={}\n",
    "plot_height=400\n",
    "plot_width=600\n",
    "\n",
    "#Surface Temp\n",
    "label = data['SurfaceTemp']['label']\n",
    "\n",
    "hover = HoverTool(tooltips=[\n",
    "    ('SurfaceTemp', \"@{}\".format(label)),\n",
    "    (\"Year\", '@Year')\n",
    "])\n",
    "\n",
    "curdoc().theme = theme\n",
    "\n",
    "\n",
    "mean_st_p = figure(title='Surface Temperature (Degrees C)', plot_height=plot_height, plot_width=plot_width, tools=[hover, \"pan,reset,wheel_zoom\"] )\n",
    "mean_st_p.yaxis.axis_label = 'Mean'\n",
    "mean_st_p.scatter('Year', label, color='Hue', source=ColumnDataSource(data['SurfaceTemp']['Mean'][data['SurfaceTemp']['Mean']['TimeFrame']=='Historical']), legend='TimeFrame')\n",
    "mean_st_p.scatter('Year', label, color='Hue', source=ColumnDataSource(data['SurfaceTemp']['Mean'][data['SurfaceTemp']['Mean']['TimeFrame']=='Future']), legend='TimeFrame')\n",
    "\n",
    "# Add trendline\n",
    "x, y = data['SurfaceTemp']['Mean'].loc[:,'Year'].values, data['SurfaceTemp']['Mean'].loc[:,label].values\n",
    "par = np.polyfit(x, y, 1, full=True)\n",
    "gradient=par[0][0]\n",
    "y_intercept=par[0][1]\n",
    "slope = Slope(gradient=gradient, y_intercept=y_intercept, line_color=linecolor, line_dash='dashed',line_width=1.5)\n",
    "mean_st_p.add_layout(slope)\n",
    "\n",
    "\n",
    "max_st_p = figure(plot_height=plot_height, plot_width=plot_width, tools=[hover, \"pan,reset,wheel_zoom\"], x_range=mean_st_p.x_range)\n",
    "max_st_p.yaxis.axis_label = 'Max'\n",
    "max_st_p.scatter('Year', label, color='Hue', source=ColumnDataSource(data['SurfaceTemp']['Max'][data['SurfaceTemp']['Max']['TimeFrame']=='Historical']), legend='TimeFrame')\n",
    "max_st_p.scatter('Year', label, color='Hue', source=ColumnDataSource(data['SurfaceTemp']['Max'][data['SurfaceTemp']['Max']['TimeFrame']=='Future']), legend='TimeFrame')\n",
    "\n",
    "# Add trendline\n",
    "x, y = data['SurfaceTemp']['Max'].loc[:,'Year'].values, data['SurfaceTemp']['Max'].loc[:,label].values\n",
    "par = np.polyfit(x, y, 1, full=True)\n",
    "gradient=par[0][0]\n",
    "y_intercept=par[0][1]\n",
    "slope = Slope(gradient=gradient, y_intercept=y_intercept, line_color=linecolor, line_dash='dashed',line_width=1.5)\n",
    "max_st_p.add_layout(slope)\n",
    "\n",
    "min_st_p = figure(plot_height=plot_height, plot_width=plot_width, tools=[hover, \"pan,reset,wheel_zoom\"], x_range=mean_st_p.x_range)\n",
    "min_st_p.xaxis.axis_label = 'Year'\n",
    "min_st_p.yaxis.axis_label = 'Min'\n",
    "min_st_p.scatter('Year', label, color='Hue', source=ColumnDataSource(data['SurfaceTemp']['Min'][data['SurfaceTemp']['Min']['TimeFrame']=='Historical']), legend='TimeFrame')\n",
    "min_st_p.scatter('Year', label, color='Hue', source=ColumnDataSource(data['SurfaceTemp']['Min'][data['SurfaceTemp']['Min']['TimeFrame']=='Future']), legend='TimeFrame')\n",
    "              \n",
    "# Add trendline\n",
    "x, y = data['SurfaceTemp']['Min'].loc[:,'Year'].values, data['SurfaceTemp']['Min'].loc[:,label].values\n",
    "par = np.polyfit(x, y, 1, full=True)\n",
    "gradient=par[0][0]\n",
    "y_intercept=par[0][1]\n",
    "slope = Slope(gradient=gradient, y_intercept=y_intercept, line_color=linecolor, line_dash='dashed',line_width=1.5)\n",
    "min_st_p.add_layout(slope)\n",
    "         \n",
    "                 \n",
    "# EKMAN TRANSPORT\n",
    "label = data['EkmanTransport']['label']\n",
    "\n",
    "hover = HoverTool(tooltips=[\n",
    "    ('EkmanTransport', \"@{}\".format(label)),\n",
    "    (\"Year\", '@Year')\n",
    "])    \n",
    "                 \n",
    "mean_et_p = figure(title='Upwelling Intensity (m3/s/100m)', plot_height=plot_height, plot_width=plot_width, tools=[hover, \"pan,reset,wheel_zoom\"], x_range=mean_st_p.x_range )\n",
    "mean_et_p.scatter('Year', label, color='Hue', source=ColumnDataSource(data['EkmanTransport']['Mean'][data['EkmanTransport']['Mean']['TimeFrame']=='Historical']), legend='TimeFrame')\n",
    "mean_et_p.scatter('Year', label, color='Hue', source=ColumnDataSource(data['EkmanTransport']['Mean'][data['EkmanTransport']['Mean']['TimeFrame']=='Future']), legend='TimeFrame')\n",
    "\n",
    "# Add trendline\n",
    "x, y = data['EkmanTransport']['Mean'].loc[:,'Year'].values, data['EkmanTransport']['Mean'].loc[:,label].values\n",
    "par = np.polyfit(x, y, 1, full=True)\n",
    "gradient=par[0][0]\n",
    "y_intercept=par[0][1]\n",
    "slope = Slope(gradient=gradient, y_intercept=y_intercept, line_color=linecolor, line_dash='dashed',line_width=1.5)\n",
    "mean_et_p.add_layout(slope)\n",
    "\n",
    "\n",
    "max_et_p = figure(plot_height=plot_height, plot_width=plot_width, tools=[hover, \"pan,reset,wheel_zoom\"], x_range=mean_st_p.x_range)\n",
    "max_et_p.scatter('Year', label, color='Hue', source=ColumnDataSource(data['EkmanTransport']['Max'][data['EkmanTransport']['Max']['TimeFrame']=='Historical']), legend='TimeFrame')\n",
    "max_et_p.scatter('Year', label, color='Hue', source=ColumnDataSource(data['EkmanTransport']['Max'][data['EkmanTransport']['Max']['TimeFrame']=='Future']), legend='TimeFrame')\n",
    "\n",
    "# Add trendline\n",
    "x, y = data['EkmanTransport']['Max'].loc[:,'Year'].values, data['EkmanTransport']['Max'].loc[:,label].values\n",
    "par = np.polyfit(x, y, 1, full=True)\n",
    "gradient=par[0][0]\n",
    "y_intercept=par[0][1]\n",
    "slope = Slope(gradient=gradient, y_intercept=y_intercept, line_color=linecolor, line_dash='dashed',line_width=1.5)\n",
    "max_et_p.add_layout(slope)\n",
    "\n",
    "min_et_p = figure(plot_height=plot_height, plot_width=plot_width, tools=[hover, \"pan,reset,wheel_zoom\"], x_range=mean_st_p.x_range)\n",
    "min_et_p.xaxis.axis_label = 'Year'\n",
    "min_et_p.scatter('Year', label, color='Hue', source=ColumnDataSource(data['EkmanTransport']['Min'][data['EkmanTransport']['Min']['TimeFrame']=='Historical']), legend='TimeFrame')\n",
    "min_et_p.scatter('Year', label, color='Hue', source=ColumnDataSource(data['EkmanTransport']['Min'][data['EkmanTransport']['Min']['TimeFrame']=='Future']), legend='TimeFrame')\n",
    "              \n",
    "# Add trendline\n",
    "x, y = data['EkmanTransport']['Min'].loc[:,'Year'].values, data['EkmanTransport']['Min'].loc[:,label].values\n",
    "par = np.polyfit(x, y, 1, full=True)\n",
    "gradient=par[0][0]\n",
    "y_intercept=par[0][1]\n",
    "slope = Slope(gradient=gradient, y_intercept=y_intercept, line_color=linecolor, line_dash='dashed',line_width=1.5)\n",
    "min_et_p.add_layout(slope)"
   ]
  },
  {
   "cell_type": "code",
   "execution_count": null,
   "metadata": {
    "scrolled": false
   },
   "outputs": [],
   "source": [
    "rows['Mean'] = [mean_st_p, mean_et_p] \n",
    "rows['Max']= [max_st_p, max_et_p] \n",
    "rows['Min']= [min_st_p, min_et_p] \n",
    "grid = gridplot([rows['Mean'], rows['Max'], rows['Min']])\n",
    "\n",
    "output_file(r'..\\Visualizations\\YealyStatsGrid.html')\n",
    "show(grid)"
   ]
  },
  {
   "cell_type": "markdown",
   "metadata": {},
   "source": [
    "Our data appears to show yearly increasing trends of Surface Temperature while decreasing trends of Upwelling Intensity in both the yearly mean and max as time moves on. This may suggest increased stratification and heat stress along with decreased nutrient and oxygen availability for coastal ecosystems at different latitudinal and veritcal locations. The combination of these two trends could compound on each other - decreased upward movement of water along with increased stratification could work in tandem to decrease overall mixing of surface and deep ocean water, which could alter surface trophic webs and cause hypoxic benthic environments."
   ]
  }
 ],
 "metadata": {
  "kernelspec": {
   "display_name": "Python 3",
   "language": "python",
   "name": "python3"
  },
  "language_info": {
   "codemirror_mode": {
    "name": "ipython",
    "version": 3
   },
   "file_extension": ".py",
   "mimetype": "text/x-python",
   "name": "python",
   "nbconvert_exporter": "python",
   "pygments_lexer": "ipython3",
   "version": "3.6.5"
  }
 },
 "nbformat": 4,
 "nbformat_minor": 2
}
