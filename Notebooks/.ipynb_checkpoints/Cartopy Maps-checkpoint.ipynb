{
 "cells": [
  {
   "cell_type": "markdown",
   "metadata": {},
   "source": [
    "# Spatial Analysis\n",
    "\n",
    "### In this notebook, we will be looking at the entire grid of our study area and creating some graphics to look at changes to surface temperature and upwelling"
   ]
  },
  {
   "cell_type": "code",
   "execution_count": null,
   "metadata": {},
   "outputs": [],
   "source": [
    "import numpy as np\n",
    "import pandas as pd\n",
    "import xarray as xr\n",
    "import seaborn as sns\n",
    "import cartopy.crs as crs\n",
    "import cartopy.feature as cfeature\n",
    "import matplotlib\n",
    "import matplotlib.pyplot as plt\n",
    "from cartopy.mpl.gridliner import LONGITUDE_FORMATTER, LATITUDE_FORMATTER\n",
    "LandMask = xr.open_dataset(r'..\\Data Samples\\NetCDF\\LandMask.nc').mask[0,:,:]"
   ]
  },
  {
   "cell_type": "markdown",
   "metadata": {},
   "source": [
    "reject_outliers() is a function to remove any extreme outliers found in our data. We will be creating a \"Day of Year\" average, which is an average over the entire period of study on that day (January 1st, January 2nd, etc.). Then, we will take a snippet of each time frame (1985-2005, 2030-2050). We do this because we want to highlight the difference between present day (1985-2005) and the highest concentrations of greenhouse gasses under RCP 8.5. Finally, we snip down the data to just view data within the summer season (May 1st - September 30th), which studies have shown to have the highest Upwelling Intensities."
   ]
  },
  {
   "cell_type": "code",
   "execution_count": null,
   "metadata": {},
   "outputs": [],
   "source": [
    "def reject_outliers(data, m = 4.):\n",
    "    d = np.abs(data - np.nanmedian(data))\n",
    "    mdev = np.nanmedian(d)\n",
    "    s = d/mdev if mdev else 0.\n",
    "    return np.where(s<m, data, np.nan)"
   ]
  },
  {
   "cell_type": "markdown",
   "metadata": {},
   "source": [
    "# Historical and Future Differences\n",
    "\n",
    "The following function will create a historical and future intensity graphs for Ekman Transport, Ekman Pumping, or Surface Temperature. **Change \"variable\" in the first line of the block between \"EkmanTransport\", and \"SurfaceTemp\" to view the different variables** "
   ]
  },
  {
   "cell_type": "code",
   "execution_count": null,
   "metadata": {
    "scrolled": false
   },
   "outputs": [],
   "source": [
    "# Set variable = 'EkmanTransport' or variable = 'SurfaceTemp'\n",
    "\n",
    "variable = 'EkmanTransport'\n",
    "\n",
    "variable_info={\n",
    "    'EkmanTransport': {'verbose': 'Ekman Transport', 'label': 'm3/s/100m'},\n",
    "    'SurfaceTemp': {'verbose':'Surface Temperature', 'label': 'C'}\n",
    "}\n",
    "\n",
    "BS = xr.open_dataset(r'..\\Data Samples\\NetCDF\\{}\\BS_DayofYear.nc'.format(variable))\n",
    "RCP = xr.open_dataset(r'..\\Data Samples\\NetCDF\\{}\\RCP_DayofYear.nc'.format(variable))\n",
    "\n",
    "BS_20 = getattr(BS, variable)\n",
    "RCP_20 = getattr(RCP, variable)\n",
    "BS_20.data = reject_outliers(BS_20.data, m=3.)\n",
    "RCP_20.data = reject_outliers(RCP_20.data, m=3.)\n",
    "\n",
    "BS_S_timeframe = BS_20[121:273]\n",
    "RCP_S_timeframe = RCP_20[121:273]\n",
    "    \n",
    "BS_S_timeframe.load()\n",
    "RCP_S_timeframe.load()\n",
    "\n",
    "lat = BS.lat.data\n",
    "lon = BS.lon.data\n",
    "\n",
    "vmin= min(BS_S_timeframe.mean(dim='dayofyear').min(), RCP_S_timeframe.mean(dim='dayofyear').min())\n",
    "vmax = max(BS_S_timeframe.mean(dim='dayofyear').max(), RCP_S_timeframe.mean(dim='dayofyear').max())\n",
    "\n",
    "figsize = [10,10]\n",
    "projection= crs.LambertConformal()\n",
    "geographic_extent = [lon[0,0], lon[-1,-1], lat[0, 0], lat[-1,-1]]\n",
    "fontsize=16\n",
    "colorbar_rect = [0.8,0.20,0.03,0.6]\n",
    "cmap = 'jet'\n",
    "label = variable_info[variable]['label']\n",
    "verbose_name = variable_info[variable]['verbose']\n",
    "\n",
    "fig1 = plt.figure(figsize=figsize)\n",
    "ax1 = fig1.add_subplot(1,2,1,projection=projection)\n",
    "ax1.set_title('{}: Historical'.format(verbose_name), fontsize=fontsize)\n",
    "ax1.set_extent(geographic_extent, crs.Geodetic())\n",
    "plot = ax1.pcolormesh(\n",
    "    lon, \n",
    "    lat, \n",
    "    BS_S_timeframe.mean(dim='dayofyear').where(LandMask==0),\n",
    "    transform=crs.PlateCarree(), \n",
    "    cmap=cmap, \n",
    "    vmin=vmin, \n",
    "    vmax=vmax\n",
    ")\n",
    "bar_ax = fig1.add_axes(rect=colorbar_rect) \n",
    "colorbar = fig1.colorbar(plot, cax=bar_ax)\n",
    "colorbar.set_label(label, fontsize=fontsize)\n",
    "\n",
    "fig2 = plt.figure(figsize=figsize)\n",
    "ax2 = fig2.add_subplot(1,2,1,projection=projection)\n",
    "ax2.set_title('{}: Future'.format(verbose_name), fontsize=fontsize)\n",
    "ax2.set_extent(geographic_extent, crs.Geodetic())\n",
    "plot = ax2.pcolormesh(\n",
    "    lon, \n",
    "    lat, \n",
    "    RCP_S_timeframe.mean(dim='dayofyear').where(LandMask==0),\n",
    "    transform=crs.PlateCarree(), \n",
    "    cmap=cmap, \n",
    "    vmin=vmin, \n",
    "    vmax=vmax\n",
    ")\n",
    "bar_ax = fig2.add_axes(rect=colorbar_rect) \n",
    "colorbar = fig2.colorbar(plot, cax=bar_ax)\n",
    "colorbar.set_label(label, fontsize=fontsize)\n",
    "\n",
    "fig3minmax={'EkmanTransport':{'vmin':-6,'vmax':0}, 'EkmanPumping':{'vmin':-.00002, 'vmax':.00002}, 'SurfaceTemp':{'vmin':.8,'vmax':1.3}}\n",
    "fig3 = plt.figure(figsize=figsize)\n",
    "ax3 = fig3.add_subplot(1,2,1,projection=projection)\n",
    "ax3.set_title('{}: Duration'.format(verbose_name), fontsize=16)\n",
    "ax3.set_extent(geographic_extent, crs.Geodetic())\n",
    "plot = ax3.pcolormesh(\n",
    "    lon, \n",
    "    lat, \n",
    "    (RCP_S_timeframe.mean(dim='dayofyear') - BS_S_timeframe.mean(dim='dayofyear')).where(LandMask==0),\n",
    "    transform=crs.PlateCarree(),\n",
    "    cmap=cmap,\n",
    "    vmin=fig3minmax[variable]['vmin'],\n",
    "    vmax=fig3minmax[variable]['vmax']\n",
    ")\n",
    "bar_ax = fig3.add_axes(rect=colorbar_rect) \n",
    "colorbar = fig3.colorbar(plot, cax=bar_ax)\n",
    "colorbar.set_label(label, fontsize=fontsize)\n",
    "\n",
    "for ax in [ax1,ax2, ax3]:\n",
    "    ax.add_feature(cfeature.COASTLINE)\n",
    "    ax.add_feature(cfeature.LAND)\n",
    "    ax.gridlines()   \n"
   ]
  },
  {
   "cell_type": "markdown",
   "metadata": {},
   "source": [
    "From these graphs, we can see a decrease in upwelling in the mid latitudes in the future, and an increase in Surface Temperature in the Future."
   ]
  }
 ],
 "metadata": {
  "kernelspec": {
   "display_name": "Python 3",
   "language": "python",
   "name": "python3"
  },
  "language_info": {
   "codemirror_mode": {
    "name": "ipython",
    "version": 3
   },
   "file_extension": ".py",
   "mimetype": "text/x-python",
   "name": "python",
   "nbconvert_exporter": "python",
   "pygments_lexer": "ipython3",
   "version": "3.6.5"
  }
 },
 "nbformat": 4,
 "nbformat_minor": 2
}
